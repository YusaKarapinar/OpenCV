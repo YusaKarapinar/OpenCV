{
 "cells": [
  {
   "cell_type": "code",
   "execution_count": 20,
   "metadata": {},
   "outputs": [],
   "source": [
    "import cv2 \n",
    "import numpy  as np\n",
    "lower_gray=np.array([0,0,100])\n",
    "upper_gray=np.array([179,74,255])\n",
    "\n",
    "\n",
    "img=cv2.imread(\"gorsel.jpg\")\n",
    "\n",
    "blur=cv2.medianBlur(img,9)\n",
    "hsv=cv2.cvtColor(blur,cv2.COLOR_BGR2HSV)\n",
    "mask=cv2.inRange(hsv,lower_gray,upper_gray)\n",
    "\n",
    "circles=cv2.HoughCircles(mask,cv2.HOUGH_GRADIENT,1,mask.shape[0]/10,param1=200,param2=10,minRadius=25,maxRadius=50)\n",
    "\n",
    "if circles is not None:\n",
    "    circles=np.uint16(np.around(circles))\n",
    "    for i in circles[0,:]:\n",
    "        cv2.circle(img,(i[0],i[1]),i[2],(0,0,255),2)\n",
    "\n",
    "font1=cv2.FONT_HERSHEY_SIMPLEX\n",
    "\n",
    "cv2.putText(img,f\"Daire sayisi: {circles.shape[1]}\",(10,20),cv2.FONT_HERSHEY_SIMPLEX,1/2,(0,255,0),1,cv2.LINE_AA)\n",
    "\n",
    "\n",
    "cv2.imshow(\"img\",img)\n",
    "cv2.imshow(\"blur\",blur)\n",
    "cv2.imshow(\"mask\",mask)\n",
    "cv2.waitKey(0)\n",
    "cv2.destroyAllWindows()"
   ]
  }
 ],
 "metadata": {
  "kernelspec": {
   "display_name": "base",
   "language": "python",
   "name": "python3"
  },
  "language_info": {
   "codemirror_mode": {
    "name": "ipython",
    "version": 3
   },
   "file_extension": ".py",
   "mimetype": "text/x-python",
   "name": "python",
   "nbconvert_exporter": "python",
   "pygments_lexer": "ipython3",
   "version": "3.11.5"
  }
 },
 "nbformat": 4,
 "nbformat_minor": 2
}
