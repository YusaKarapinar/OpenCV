{
 "cells": [
  {
   "cell_type": "code",
   "execution_count": 16,
   "metadata": {},
   "outputs": [],
   "source": [
    "import cv2\n",
    "import numpy as np \n",
    "import requests\n",
    "\n",
    "cap=cv2.VideoCapture(0)\n",
    "\n",
    "fileName=r\"C:\\Users\\nisa5\\Desktop\\camera.mp4\"\n",
    "codec = cv2.VideoWriter_fourcc(*'mp4v')\n",
    "frameRate=12\n",
    "resolution=(640,480)\n",
    "videoFileOutput=cv2.VideoWriter(fileName,codec,frameRate,resolution)\n",
    "\n",
    "\n",
    "while True:\n",
    "    \n",
    "    ret,frame=cap.read()\n",
    "    if not ret:\n",
    "        break\n",
    "    key = cv2.waitKey(5)\n",
    "\n",
    "    frame=cv2.flip(frame,1)\n",
    "    cv2.imshow(\"Webcam\",frame)\n",
    "    if key & 0xFF==ord(\"q\") or not ret:\n",
    "        break\n",
    "    if key & 0xFF==ord(\"r\"):\n",
    "        videoFileOutput.write(frame)\n",
    "\n",
    "\n",
    "\n",
    "cap.release()\n",
    "videoFileOutput.release()\n",
    "cv2.destroyAllWindows()"
   ]
  },
  {
   "cell_type": "code",
   "execution_count": null,
   "metadata": {},
   "outputs": [],
   "source": []
  }
 ],
 "metadata": {
  "kernelspec": {
   "display_name": "base",
   "language": "python",
   "name": "python3"
  },
  "language_info": {
   "codemirror_mode": {
    "name": "ipython",
    "version": 3
   },
   "file_extension": ".py",
   "mimetype": "text/x-python",
   "name": "python",
   "nbconvert_exporter": "python",
   "pygments_lexer": "ipython3",
   "version": "3.11.5"
  }
 },
 "nbformat": 4,
 "nbformat_minor": 2
}
