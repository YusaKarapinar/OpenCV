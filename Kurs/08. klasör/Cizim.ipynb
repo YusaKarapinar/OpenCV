{
 "cells": [
  {
   "cell_type": "code",
   "execution_count": null,
   "metadata": {},
   "outputs": [],
   "source": [
    "import cv2\n",
    "import numpy as np\n",
    "\n",
    "canvas = np.zeros((512,512,3), dtype=np.uint8) + 255\n",
    "#print(canvas)\n",
    "\n",
    "cv2.line(canvas, (50,50), (512,512), (255,0,0), thickness=5)\n",
    "cv2.line(canvas, (100,50), (200,250), (0,0,255), thickness=7)\n",
    "\n",
    "cv2.rectangle(canvas, (20,20), (50,50), (0,255,0), thickness=-1)\n",
    "cv2.rectangle(canvas, (50,50), (150,150), (0,255,0), thickness=-1)\n",
    "\n",
    "cv2.circle(canvas, (250, 250), 100, (0,0,255), thickness=-1)\n",
    "\n",
    "p1 = (100, 200)\n",
    "p2 = (50, 50)\n",
    "p3 = (300, 100)\n",
    "\n",
    "cv2.line(canvas, p1, p2, (0,0,0), 4)\n",
    "cv2.line(canvas, p2, p3, (0,0,0), 4)\n",
    "cv2.line(canvas, p1, p3, (0,0,0), 4)\n",
    "\n",
    "points = np.array([[[110, 200], [330, 200], [290, 220], [100,100]]], np.int32)\n",
    "cv2.polylines(canvas, [points], False, (0,0,100), 5)\n",
    "\n",
    "cv2.ellipse(canvas, (300, 300), (100, 50), 0, 0, 360, (255, 255, 0), -1)\n",
    "\n",
    "\n",
    "\n",
    "cv2.imshow(\"Canvas\", canvas)\n",
    "cv2.waitKey(0)\n",
    "cv2.destroyAllWindows()\n"
   ]
  }
 ],
 "metadata": {
  "kernelspec": {
   "display_name": "Python 3",
   "language": "python",
   "name": "python3"
  },
  "language_info": {
   "name": "python",
   "version": "3.12.0"
  }
 },
 "nbformat": 4,
 "nbformat_minor": 2
}
