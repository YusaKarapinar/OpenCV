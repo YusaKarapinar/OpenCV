{
 "cells": [
  {
   "cell_type": "code",
   "execution_count": 19,
   "metadata": {},
   "outputs": [],
   "source": [
    "import cv2\n",
    "import numpy as np \n",
    "\n",
    "img=cv2.imread(\"klon.jpg\",0)\n",
    "row ,col =img.shape\n",
    "acı=90\n",
    "scale=1\n",
    "\n",
    "M=cv2.getRotationMatrix2D((col/3,row/3),acı,scale)\n",
    "dst=cv2.warpAffine(img,M,(col,row))\n",
    "\n",
    "cv2.imshow(\"1\",dst)\n",
    "cv2.waitKey(0)\n",
    "cv2.destroyAllWindows()"
   ]
  }
 ],
 "metadata": {
  "kernelspec": {
   "display_name": "base",
   "language": "python",
   "name": "python3"
  },
  "language_info": {
   "name": "python",
   "version": "3.11.5"
  }
 },
 "nbformat": 4,
 "nbformat_minor": 2
}
