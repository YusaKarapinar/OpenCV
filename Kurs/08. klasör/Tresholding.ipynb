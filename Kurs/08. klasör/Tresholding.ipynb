{
 "cells": [
  {
   "cell_type": "code",
   "execution_count": 27,
   "metadata": {},
   "outputs": [],
   "source": [
    "import cv2\n",
    "import numpy as np \n",
    "\n",
    "img=cv2.imread(\"klon.jpg\",0)\n",
    "row ,col =img.shape\n",
    "\n",
    "tresh=127\n",
    "max_value=255\n",
    "ret,th1=cv2.threshold(img,tresh,max_value,cv2.THRESH_BINARY)\n",
    "\n",
    "th2=cv2.adaptiveThreshold(img,max_value,cv2.ADAPTIVE_THRESH_MEAN_C,cv2.THRESH_BINARY,21,2)\n",
    "th3=cv2.adaptiveThreshold(img,max_value,cv2.ADAPTIVE_THRESH_GAUSSIAN_C,cv2.THRESH_BINARY,11,2)\n",
    "\n",
    "\n",
    "\n",
    "cv2.imshow(\"th1\",th1)\n",
    "cv2.imshow(\"th2\",th2)\n",
    "cv2.imshow(\"th3\",th3)\n",
    "\n",
    "\n",
    "\n",
    "\n",
    "\n",
    "cv2.waitKey(0)\n",
    "cv2.destroyAllWindows()"
   ]
  }
 ],
 "metadata": {
  "language_info": {
   "name": "python"
  }
 },
 "nbformat": 4,
 "nbformat_minor": 2
}
