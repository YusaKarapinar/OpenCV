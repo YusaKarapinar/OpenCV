{
 "cells": [
  {
   "cell_type": "code",
   "execution_count": 14,
   "metadata": {},
   "outputs": [],
   "source": [
    "import cv2 \n",
    "import numpy as np \n",
    "img=cv2.imread(\"klon.jpg\",0)\n",
    "\n",
    "row , col =img.shape\n",
    "x_bosluk=100\n",
    "y_bosluk=100\n",
    "\n",
    "M=np.float32([[1,0,x_bosluk],[0,1,y_bosluk]])\n",
    "\n",
    "dst=cv2.warpAffine(img,M,(row ,col))\n",
    "\n",
    "\n",
    "cv2.imshow(\"s\",dst)\n",
    "cv2.waitKey(0)\n",
    "cv2.destroyAllWindows()\n",
    "\n",
    "\n",
    "\n"
   ]
  }
 ],
 "metadata": {
  "kernelspec": {
   "display_name": "base",
   "language": "python",
   "name": "python3"
  },
  "language_info": {
   "codemirror_mode": {
    "name": "ipython",
    "version": 3
   },
   "file_extension": ".py",
   "mimetype": "text/x-python",
   "name": "python",
   "nbconvert_exporter": "python",
   "pygments_lexer": "ipython3",
   "version": "3.11.5"
  }
 },
 "nbformat": 4,
 "nbformat_minor": 2
}
