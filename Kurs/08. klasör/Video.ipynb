{
 "cells": [
  {
   "cell_type": "code",
   "execution_count": null,
   "metadata": {},
   "outputs": [],
   "source": [
    "import cv2\n",
    "\n",
    "#cap = cv2.VideoCapture(\"antalya.mp4\") #wideodan okuma\n",
    "cap = cv2.VideoCapture(0)#webcamden okuma\n",
    "\n",
    "while(True):\n",
    "    ret,frame=cap.read()#read fonksiyonu 2 değer döndürür birincisi video okundu mu diye ikincisi kareyi döndürür\n",
    "    if ret==0:#eğer videoda okuncak kare kalmadıysa döngüyü bitir\n",
    "        break\n",
    "    frame=cv2.flip(frame,1)#bu flip metodu frameyi y ekseninde ters çevirir (bunu genelde aynaya benzer bi görüntü istediğimizde yaparız)\n",
    "    cv2.imshow(\"Webcam\",frame)#bu zaten frameyi pencerede gösterme komutu\n",
    "    if cv2.waitKey(30) & 0xFF==ord(\"q\"):#30 mili saniye bekle ve q ya basıldıysa döngüden çık\n",
    "        break\n",
    "\n",
    "\n",
    "\n",
    "cap.release() #cap videosunu açtık ve burda da kapatıyormuş gibi düşün sistem için daha iyi her yeni video açtığında ve onla işin bittiğinde bunu yap\n",
    "cv2.destroyAllWindows()#nolur nolmaz diye bütün pencereleri kapa"
   ]
  },
  {
   "cell_type": "code",
   "execution_count": null,
   "metadata": {},
   "outputs": [],
   "source": [
    "import cv2\n",
    "import numpy as np\n",
    "import requests\n",
    "cap = cv2.VideoCapture(0,cv2.CAP_DSHOW)\n",
    "fileName=r\"C:\\Users\\nisa5\\Desktop\\webcam.mp4\"\n",
    "codec = cv2.VideoWriter_fourcc(*'mp4v')\n",
    "frameRate=12\n",
    "resolution=(640,480)\n",
    "videoFileOutput=cv2.VideoWriter(fileName,codec,frameRate,resolution)\n",
    "\n",
    "\n",
    "\n",
    "\n",
    "cap.release()\n",
    "cv2.destroyAllWindows()"
   ]
  },
  {
   "cell_type": "code",
   "execution_count": null,
   "metadata": {},
   "outputs": [],
   "source": [
    "import cv2\n",
    "\n",
    "cap = cv2.VideoCapture(0,cv2.CAP_DSHOW)\n",
    "\n",
    "cap.release()\n",
    "cv2.destroyAllWindows()"
   ]
  }
 ],
 "metadata": {
  "kernelspec": {
   "display_name": "Python 3",
   "language": "python",
   "name": "python3"
  },
  "language_info": {
   "name": "python",
   "version": "3.12.0"
  }
 },
 "nbformat": 4,
 "nbformat_minor": 2
}
