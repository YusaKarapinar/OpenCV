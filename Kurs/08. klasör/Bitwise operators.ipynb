{
 "cells": [
  {
   "cell_type": "code",
   "execution_count": 16,
   "metadata": {},
   "outputs": [
    {
     "data": {
      "text/plain": [
       "-1"
      ]
     },
     "execution_count": 16,
     "metadata": {},
     "output_type": "execute_result"
    }
   ],
   "source": [
    "import cv2\n",
    "import numpy as np \n",
    "img1=cv2.imread(\"9.1 bitwise_2.png.png\")\n",
    "img2=cv2.imread(\"9.2 bitwise_1.png.png\")\n",
    "\n",
    "\n",
    "\n",
    "img3=cv2.bitwise_xor(img1,img2)\n",
    "img3=cv2.bitwise_and(img1,img2)\n",
    "img3=cv2.bitwise_not(img1,img2)\n",
    "cv2.imshow(\"1\",img3)\n",
    "\n",
    "cv2.waitKey(0)"
   ]
  }
 ],
 "metadata": {
  "kernelspec": {
   "display_name": "base",
   "language": "python",
   "name": "python3"
  },
  "language_info": {
   "codemirror_mode": {
    "name": "ipython",
    "version": 3
   },
   "file_extension": ".py",
   "mimetype": "text/x-python",
   "name": "python",
   "nbconvert_exporter": "python",
   "pygments_lexer": "ipython3",
   "version": "3.11.5"
  }
 },
 "nbformat": 4,
 "nbformat_minor": 2
}
