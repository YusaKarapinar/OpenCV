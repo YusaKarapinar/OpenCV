{
 "cells": [
  {
   "cell_type": "code",
   "execution_count": null,
   "metadata": {},
   "outputs": [],
   "source": [
    "import cv2\n",
    "import numpy as np\n",
    "\n",
    "canvas = np.zeros((512,512,3), dtype=np.uint8) + 255\n",
    "#print(canvas)\n",
    "font1=cv2.FONT_HERSHEY_SIMPLEX\n",
    "\n",
    "cv2.putText(canvas,\"Selam\",(100,500),cv2.FONT_HERSHEY_SIMPLEX,4,(0,0,0),cv2.LINE_AA)\n",
    "\n",
    "cv2.imshow(\"Canvas\", canvas)\n",
    "cv2.waitKey(0)\n",
    "cv2.destroyAllWindows()\n"
   ]
  }
 ],
 "metadata": {
  "language_info": {
   "name": "python"
  }
 },
 "nbformat": 4,
 "nbformat_minor": 2
}
