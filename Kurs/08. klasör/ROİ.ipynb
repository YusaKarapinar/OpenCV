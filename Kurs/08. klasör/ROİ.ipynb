{
 "cells": [
  {
   "cell_type": "code",
   "execution_count": 25,
   "metadata": {},
   "outputs": [],
   "source": [
    "import cv2 \n",
    "import numpy as np \n",
    "\n",
    "\n",
    "circle=np.zeros((512,512,3),np.uint8)+255\n",
    "cv2.circle(circle,(256,256),60,(255,0,0),-1)\n",
    "\n",
    "rectangle=np.zeros((512,512,3),np.uint8)+255\n",
    "cv2.rectangle(rectangle,(150,150),(350,350),(0,0,255),-1)\n",
    "\n",
    "add=cv2.add(circle,rectangle)\n",
    "\n",
    "dst=cv2.addWeighted(circle,0.9,rectangle,0.3,0)\n",
    "\n",
    "cv2.imshow(\"circle\",dst)\n",
    "cv2.waitKey(0)\n",
    "\n",
    "cv2.destroyAllWindows()"
   ]
  }
 ],
 "metadata": {
  "kernelspec": {
   "display_name": "venv",
   "language": "python",
   "name": "python3"
  },
  "language_info": {
   "codemirror_mode": {
    "name": "ipython",
    "version": 3
   },
   "file_extension": ".py",
   "mimetype": "text/x-python",
   "name": "python",
   "nbconvert_exporter": "python",
   "pygments_lexer": "ipython3",
   "version": "3.7.0"
  }
 },
 "nbformat": 4,
 "nbformat_minor": 2
}
