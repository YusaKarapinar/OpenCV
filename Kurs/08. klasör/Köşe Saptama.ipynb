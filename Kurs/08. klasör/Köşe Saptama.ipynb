{
 "cells": [
  {
   "cell_type": "code",
   "execution_count": 9,
   "metadata": {},
   "outputs": [
    {
     "name": "stderr",
     "output_type": "stream",
     "text": [
      "C:\\Users\\nisa5\\AppData\\Local\\Temp\\ipykernel_11384\\2143864045.py:13: DeprecationWarning: `np.int0` is a deprecated alias for `np.intp`.  (Deprecated NumPy 1.24)\n",
      "  corners1=np.int0(corners1)\n"
     ]
    }
   ],
   "source": [
    "import cv2\n",
    "import numpy as np \n",
    "\n",
    "\n",
    "\n",
    "img1=cv2.imread(\"text.png\")\n",
    "img2=cv2.imread(\"contour.png\")\n",
    "\n",
    "gray1=cv2.cvtColor(img1,cv2.COLOR_BGR2GRAY)\n",
    "gray1=np.float32(gray1)\n",
    "corners1=cv2.goodFeaturesToTrack(gray1,60,0.01,10)\n",
    "\n",
    "corners1=np.int0(corners1)\n",
    "\n",
    "for corner in corners1:\n",
    "    x,y=corner.ravel()\n",
    "    cv2.circle(img1,(x,y),3,(0,0,255),-1)\n",
    "\n",
    "\n",
    "cv2.imshow(\"corner\",img1)\n",
    "\n",
    "\n",
    "cv2.waitKey(0)\n",
    "cv2.destroyAllWindows()\n",
    "\n",
    "\n",
    "\n",
    "\n",
    "\n"
   ]
  }
 ],
 "metadata": {
  "kernelspec": {
   "display_name": "base",
   "language": "python",
   "name": "python3"
  },
  "language_info": {
   "codemirror_mode": {
    "name": "ipython",
    "version": 3
   },
   "file_extension": ".py",
   "mimetype": "text/x-python",
   "name": "python",
   "nbconvert_exporter": "python",
   "pygments_lexer": "ipython3",
   "version": "3.11.5"
  }
 },
 "nbformat": 4,
 "nbformat_minor": 2
}
