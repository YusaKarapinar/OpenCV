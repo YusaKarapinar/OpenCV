{
 "cells": [
  {
   "cell_type": "code",
   "execution_count": 1,
   "metadata": {},
   "outputs": [],
   "source": [
    "import cv2 \n",
    "import numpy as np \n",
    "img=cv2.imread(\"klon.jpg\")\n",
    "\n",
    "blur=cv2.blur(img,(5,5))\n",
    "blur2=cv2.GaussianBlur(img,(5,5),cv2.BORDER_DEFAULT)\n",
    "cv2.imshow(\"org\",img)\n",
    "cv2.imshow(\"1\",blur)\n",
    "cv2.imshow(\"2\",blur2)\n",
    "\n",
    "cv2.waitKey(0)\n",
    "cv2.destroyAllWindows()\n",
    "\n"
   ]
  }
 ],
 "metadata": {
  "kernelspec": {
   "display_name": "base",
   "language": "python",
   "name": "python3"
  },
  "language_info": {
   "codemirror_mode": {
    "name": "ipython",
    "version": 3
   },
   "file_extension": ".py",
   "mimetype": "text/x-python",
   "name": "python",
   "nbconvert_exporter": "python",
   "pygments_lexer": "ipython3",
   "version": "3.11.5"
  }
 },
 "nbformat": 4,
 "nbformat_minor": 2
}
