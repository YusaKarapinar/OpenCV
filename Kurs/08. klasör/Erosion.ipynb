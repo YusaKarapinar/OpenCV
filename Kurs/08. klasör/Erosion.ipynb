{
 "cells": [
  {
   "cell_type": "code",
   "execution_count": 10,
   "metadata": {},
   "outputs": [],
   "source": [
    "import cv2\n",
    "import numpy as np\n",
    "img=cv2.imread(\"klon.jpg\",0)\n",
    "\n",
    "\n",
    "\n",
    "kernel=np.ones((5,5),np.uint8)\n",
    "\n",
    "erosion=cv2.erode(img,kernel,iterations=1)\n",
    "\n",
    "\n",
    "\n",
    "cv2.imshow(\"1\", img)\n",
    "cv2.imshow(\"2\", erosion)\n",
    "cv2.waitKey(0)\n",
    "cv2.destroyAllWindows()"
   ]
  }
 ],
 "metadata": {
  "kernelspec": {
   "display_name": "base",
   "language": "python",
   "name": "python3"
  },
  "language_info": {
   "codemirror_mode": {
    "name": "ipython",
    "version": 3
   },
   "file_extension": ".py",
   "mimetype": "text/x-python",
   "name": "python",
   "nbconvert_exporter": "python",
   "pygments_lexer": "ipython3",
   "version": "3.11.5"
  }
 },
 "nbformat": 4,
 "nbformat_minor": 2
}
