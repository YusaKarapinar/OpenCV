{
 "cells": [
  {
   "cell_type": "code",
   "execution_count": 15,
   "metadata": {},
   "outputs": [],
   "source": [
    "import cv2\n",
    "import numpy as np \n",
    "\n",
    "\n",
    "\n",
    "cap=cv2.VideoCapture(\"15.1 eye_motion.mp4.mp4\")\n",
    "\n",
    "\n",
    "\n",
    "\n",
    "while True:\n",
    "    ret,frame=cap.read()\n",
    "    if ret is not True:\n",
    "        break\n",
    "    roi=frame[80:210,230:450]\n",
    "    rows,cols,_ = roi.shape\n",
    "\n",
    "    gray=cv2.cvtColor(roi,cv2.COLOR_BGR2GRAY)\n",
    "    _,threshold=cv2.threshold(gray,3,255,cv2.THRESH_BINARY_INV)\n",
    "\n",
    "    contours,_=cv2.findContours(threshold,cv2.RETR_TREE,cv2.CHAIN_APPROX_SIMPLE)\n",
    "    contours=sorted(contours,key=lambda x :cv2.contourArea(x),reverse=True)\n",
    "\n",
    "    for cnt in contours:\n",
    "        (x,y,w,h) = cv2.boundingRect(cnt)\n",
    "        cv2.rectangle(roi,(x,y),(x+w,y+h),(255,0,0),2)\n",
    "        cv2.line(roi,(x+int(w/2),0),(x+int(w/2),rows),(0,255,0),2)\n",
    "        cv2.line(roi,(0,y+int(h/2)),(cols,y+int(h/2)),(0,255,0),2)\n",
    "        break\n",
    "    \n",
    "\n",
    "\n",
    "    cv2.imshow(\"1\",frame)\n",
    "    cv2.imshow(\"2\",roi)\n",
    "    cv2.imshow(\"3\",threshold)\n",
    "    if cv2.waitKey(50) & 0xFF == ord(\"q\"):\n",
    "        break\n",
    "\n",
    "\n",
    "\n",
    "\n",
    "\n",
    "cap.release()\n",
    "cv2.destroyAllWindows()"
   ]
  }
 ],
 "metadata": {
  "kernelspec": {
   "display_name": "base",
   "language": "python",
   "name": "python3"
  },
  "language_info": {
   "codemirror_mode": {
    "name": "ipython",
    "version": 3
   },
   "file_extension": ".py",
   "mimetype": "text/x-python",
   "name": "python",
   "nbconvert_exporter": "python",
   "pygments_lexer": "ipython3",
   "version": "3.11.5"
  }
 },
 "nbformat": 4,
 "nbformat_minor": 2
}
