{
 "cells": [
  {
   "cell_type": "code",
   "execution_count": 11,
   "metadata": {},
   "outputs": [],
   "source": [
    "import cv2 \n",
    "import numpy as np \n",
    "\n",
    "cap=cv2.VideoCapture(\"5.1 car.mp4.mp4\")\n",
    "\n",
    "_,first_frame=cap.read()\n",
    "first_frame =cv2.resize(first_frame,(640,480))\n",
    "\n",
    "first_gray=cv2.cvtColor(first_frame,cv2.COLOR_BGR2GRAY)\n",
    "first_blur=cv2.GaussianBlur(first_gray,(5,5),0)\n",
    "\n",
    "while True:\n",
    "    ret,frame=cap.read()\n",
    "    \n",
    "    \n",
    "    if ret is not True:\n",
    "        break\n",
    "    frame =cv2.resize(frame,(640,480))\n",
    "    gray=cv2.cvtColor(frame,cv2.COLOR_BGR2GRAY)\n",
    "    blur=cv2.GaussianBlur(gray,(5,5),0)\n",
    "    diff=cv2.absdiff(first_blur,blur)\n",
    "    _,diff=cv2.threshold(diff,50,255,cv2.THRESH_BINARY)\n",
    "    cv2.imshow(\"frame\",frame)\n",
    "    cv2.imshow(\"first frame\",first_frame)\n",
    "    cv2.imshow(\"diff\",diff)\n",
    "    \n",
    "\n",
    "\n",
    "\n",
    "    if cv2.waitKey(20) & 0xFF==ord(\"q\"):\n",
    "        break\n",
    "\n",
    "\n",
    "\n",
    "\n",
    "cap.release()\n",
    "cv2.destroyAllWindows()"
   ]
  }
 ],
 "metadata": {
  "kernelspec": {
   "display_name": "Python 3",
   "language": "python",
   "name": "python3"
  },
  "language_info": {
   "codemirror_mode": {
    "name": "ipython",
    "version": 3
   },
   "file_extension": ".py",
   "mimetype": "text/x-python",
   "name": "python",
   "nbconvert_exporter": "python",
   "pygments_lexer": "ipython3",
   "version": "3.12.1"
  }
 },
 "nbformat": 4,
 "nbformat_minor": 2
}
