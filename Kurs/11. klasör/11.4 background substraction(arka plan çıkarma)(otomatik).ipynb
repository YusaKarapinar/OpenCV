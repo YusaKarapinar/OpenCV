{
 "cells": [
  {
   "cell_type": "code",
   "execution_count": 10,
   "metadata": {},
   "outputs": [],
   "source": [
    "import cv2 \n",
    "import numpy as np \n",
    "\n",
    "# cap=cv2.VideoCapture(\"5.1 car.mp4.mp4\")\n",
    "cap=cv2.VideoCapture(0)\n",
    "subtractor=cv2.createBackgroundSubtractorMOG2(history=100,varThreshold=100,detectShadows=True)\n",
    "\n",
    "\n",
    "while True:\n",
    "    ret,frame=cap.read()\n",
    "    frame=cv2.resize(frame,(640,480))\n",
    "    if ret is not True:\n",
    "        break\n",
    "    mask=subtractor.apply(frame)\n",
    "    cv2.imshow(\"Frame\",frame)\n",
    "    cv2.imshow(\"Mask\",mask)\n",
    "\n",
    "\n",
    "\n",
    "\n",
    "    if cv2.waitKey(20) & 0xFF==ord(\"q\"):\n",
    "        break\n",
    "\n",
    "\n",
    "\n",
    "\n",
    "cap.release()\n",
    "cv2.destroyAllWindows()"
   ]
  }
 ],
 "metadata": {
  "kernelspec": {
   "display_name": "base",
   "language": "python",
   "name": "python3"
  },
  "language_info": {
   "codemirror_mode": {
    "name": "ipython",
    "version": 3
   },
   "file_extension": ".py",
   "mimetype": "text/x-python",
   "name": "python",
   "nbconvert_exporter": "python",
   "pygments_lexer": "ipython3",
   "version": "3.11.5"
  }
 },
 "nbformat": 4,
 "nbformat_minor": 2
}
