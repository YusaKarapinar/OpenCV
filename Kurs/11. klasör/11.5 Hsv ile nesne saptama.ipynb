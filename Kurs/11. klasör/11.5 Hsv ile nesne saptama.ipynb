{
 "cells": [
  {
   "cell_type": "code",
   "execution_count": 1,
   "metadata": {},
   "outputs": [],
   "source": [
    "import cv2\n",
    "import numpy as np \n",
    "\n",
    "def nothing(x):\n",
    "    pass\n",
    "\n",
    "\n",
    "# cap=cv2.VideoCapture(\"7.1 hsv.mp4.mp4\")\n",
    "cap=cv2.VideoCapture(0)\n",
    "\n",
    "cv2.namedWindow(\"set\")\n",
    "cv2.createTrackbar(\"lh\",\"set\",0,180,nothing)\n",
    "cv2.createTrackbar(\"ls\",\"set\",0,255,nothing)\n",
    "cv2.createTrackbar(\"lv\",\"set\",0,255,nothing)\n",
    "cv2.createTrackbar(\"uh\",\"set\",0,180,nothing)\n",
    "cv2.createTrackbar(\"us\",\"set\",0,255,nothing)\n",
    "cv2.createTrackbar(\"uv\",\"set\",0,255,nothing)\n",
    "cv2.setTrackbarPos(\"uh\",\"set\",180)\n",
    "cv2.setTrackbarPos(\"us\",\"set\",255)\n",
    "cv2.setTrackbarPos(\"uv\",\"set\",255)\n",
    "\n",
    "\n",
    "\n",
    "\n",
    "while True:\n",
    "    _,frame=cap.read()\n",
    "    if ret is not True:\n",
    "        break\n",
    "    frame=cv2.resize(frame,(640,480))\n",
    "    hsv=cv2.cvtColor(frame,cv2.COLOR_BGR2HSV)\n",
    "    \n",
    "    lh=cv2.getTrackbarPos(\"lh\",\"set\")\n",
    "    ls=cv2.getTrackbarPos(\"ls\",\"set\")\n",
    "    lv=cv2.getTrackbarPos(\"lv\",\"set\")\n",
    "    uh=cv2.getTrackbarPos(\"uh\",\"set\")\n",
    "    us=cv2.getTrackbarPos(\"us\",\"set\")\n",
    "    uv=cv2.getTrackbarPos(\"uv\",\"set\")\n",
    "    lower_color=np.array([lh,ls,lv])\n",
    "    upper_color=np.array([uh,us,uv])\n",
    "    mask=cv2.inRange(hsv,lower_color,upper_color)\n",
    "    bitwise=cv2.bitwise_and(frame,frame,mask=mask)\n",
    "    cv2.imshow(\"frame\",frame)\n",
    "    cv2.imshow(\"mask\",mask)\n",
    "    cv2.imshow(\"bitwise\",bitwise)\n",
    "    if cv2.waitKey(20) & 0xFF==ord(\"q\"):\n",
    "        break\n",
    "\n",
    "\n",
    "\n",
    "cap.release()\n",
    "cv2.destroyAllWindows()\n",
    "\n",
    "    \n",
    "\n",
    "\n",
    "\n"
   ]
  }
 ],
 "metadata": {
  "kernelspec": {
   "display_name": "base",
   "language": "python",
   "name": "python3"
  },
  "language_info": {
   "codemirror_mode": {
    "name": "ipython",
    "version": 3
   },
   "file_extension": ".py",
   "mimetype": "text/x-python",
   "name": "python",
   "nbconvert_exporter": "python",
   "pygments_lexer": "ipython3",
   "version": "3.11.5"
  }
 },
 "nbformat": 4,
 "nbformat_minor": 2
}
