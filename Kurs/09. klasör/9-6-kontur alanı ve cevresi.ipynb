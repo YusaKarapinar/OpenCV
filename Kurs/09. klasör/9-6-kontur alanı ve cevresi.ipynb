{
 "cells": [
  {
   "cell_type": "code",
   "execution_count": 10,
   "metadata": {},
   "outputs": [
    {
     "name": "stdout",
     "output_type": "stream",
     "text": [
      "89744.0\n",
      "89744.0\n",
      "1200.0\n"
     ]
    }
   ],
   "source": [
    "import cv2\n",
    "import numpy as np\n",
    "img=cv2.imread(\"9-5.1 contour.png\")\n",
    "if img is None:\n",
    "    print(\"Resim yüklenemedi.\")\n",
    "\n",
    "gray=cv2.cvtColor(img,cv2.COLOR_BGR2GRAY)\n",
    "ret,tresh=cv2.threshold(gray,127,255,cv2.THRESH_BINARY)\n",
    "contours,_=cv2.findContours(tresh,cv2.RETR_TREE,cv2.CHAIN_APPROX_SIMPLE)\n",
    "cnt=contours[0]\n",
    "# kontur kullanarak alan\n",
    "area=cv2.contourArea(cnt)\n",
    "print(area)\n",
    "# M yi kullanarak alan\n",
    "M=cv2.moments(cnt)\n",
    "print(M[\"m00\"])\n",
    "\n",
    "\n",
    "perimeter=cv2.arcLength(cnt,True)\n",
    "print(perimeter)\n",
    "\n",
    "\n",
    "cv2.imshow(\"img\",img)\n",
    "cv2.imshow(\"gray\",gray)\n",
    "cv2.imshow(\"tresh\",tresh)\n",
    "cv2.waitKey(0)\n",
    "\n",
    "\n",
    "\n",
    "cv2.destroyAllWindows()"
   ]
  }
 ],
 "metadata": {
  "kernelspec": {
   "display_name": "base",
   "language": "python",
   "name": "python3"
  },
  "language_info": {
   "codemirror_mode": {
    "name": "ipython",
    "version": 3
   },
   "file_extension": ".py",
   "mimetype": "text/x-python",
   "name": "python",
   "nbconvert_exporter": "python",
   "pygments_lexer": "ipython3",
   "version": "3.11.5"
  }
 },
 "nbformat": 4,
 "nbformat_minor": 2
}
