{
 "cells": [
  {
   "cell_type": "code",
   "execution_count": 5,
   "metadata": {},
   "outputs": [],
   "source": [
    "import cv2\n",
    "import numpy as np\n",
    "img=cv2.imread(\"9-8.1 map.jpg.jpg\")\n",
    "if img is None:\n",
    "    print(\"Resim yüklenemedi.\")\n",
    "gray=cv2.cvtColor(img,cv2.COLOR_BGR2GRAY)\n",
    "blur=cv2.blur(gray,(7,7))\n",
    "_,tresh=cv2.threshold(blur,30,255,cv2.THRESH_BINARY)\n",
    "contours,hierarchy=cv2.findContours(tresh,cv2.RETR_TREE,cv2.CHAIN_APPROX_SIMPLE)\n",
    "\n",
    "hull=[]\n",
    "\n",
    "for i in range(len(contours)):\n",
    "    hull.append(cv2.convexHull(contours[i],False))\n",
    "\n",
    "bg=np.zeros((tresh.shape[0],tresh.shape[1],3),np.uint8)\n",
    "\n",
    "\n",
    "for i in range(len(contours)):\n",
    "    cv2.drawContours(bg,contours,i,(255,255,255),3,8)\n",
    "    cv2.drawContours(bg,hull,i,(0,0,255),3,8)\n",
    "\n",
    "cv2.imshow(\"Contours\",bg)\n",
    "cv2.waitKey(0)\n",
    "cv2.destroyAllWindows()"
   ]
  }
 ],
 "metadata": {
  "kernelspec": {
   "display_name": "base",
   "language": "python",
   "name": "python3"
  },
  "language_info": {
   "codemirror_mode": {
    "name": "ipython",
    "version": 3
   },
   "file_extension": ".py",
   "mimetype": "text/x-python",
   "name": "python",
   "nbconvert_exporter": "python",
   "pygments_lexer": "ipython3",
   "version": "3.11.5"
  }
 },
 "nbformat": 4,
 "nbformat_minor": 2
}
