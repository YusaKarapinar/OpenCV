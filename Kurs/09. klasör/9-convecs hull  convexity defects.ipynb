{
 "cells": [
  {
   "cell_type": "code",
   "execution_count": 27,
   "metadata": {},
   "outputs": [
    {
     "name": "stdout",
     "output_type": "stream",
     "text": [
      "Kusur bulunamadı.\n"
     ]
    }
   ],
   "source": [
    "import cv2\n",
    "import numpy as np\n",
    "img=cv2.imread(\"9-9.1 star.png.png\")\n",
    "if img is None:\n",
    "    print(\"Resim yüklenemedi.\")\n",
    "gray=cv2.cvtColor(img,cv2.COLOR_BGR2GRAY)\n",
    "_,tresh=cv2.threshold(gray,127,255,0)\n",
    "contours,hierarchy=cv2.findContours(tresh,2,1)\n",
    "\n",
    "cnt=contours[0]\n",
    "hull = cv2.convexHull(cnt, returnPoints=False)\n",
    "defects = cv2.convexityDefects(cnt, hull)\n",
    "\n",
    "if defects is not None:\n",
    "    for i in range(defects.shape[0]):\n",
    "        s, e, f, d = defects[i, 0]\n",
    "        start = tuple(cnt[s][0])\n",
    "        end = tuple(cnt[e][0])\n",
    "        far = tuple(cnt[f][0])\n",
    "        distance = d / 256.0  # Uzaklığı düzgün bir şekilde almak için\n",
    "        cv2.line(img, start, end, (0, 255, 0), 2)\n",
    "        cv2.circle(img, far, 5, (0, 0, 255), -1)\n",
    "else:\n",
    "    print(\"Kusur bulunamadı.\")\n",
    "\n",
    "cv2.imshow(\"1\", img)\n",
    "cv2.waitKey(0)\n",
    "cv2.destroyAllWindows()\n"
   ]
  }
 ],
 "metadata": {
  "kernelspec": {
   "display_name": "base",
   "language": "python",
   "name": "python3"
  },
  "language_info": {
   "codemirror_mode": {
    "name": "ipython",
    "version": 3
   },
   "file_extension": ".py",
   "mimetype": "text/x-python",
   "name": "python",
   "nbconvert_exporter": "python",
   "pygments_lexer": "ipython3",
   "version": "3.11.5"
  }
 },
 "nbformat": 4,
 "nbformat_minor": 2
}
