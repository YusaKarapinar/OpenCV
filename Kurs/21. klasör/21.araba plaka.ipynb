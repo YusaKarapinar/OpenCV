{
 "cells": [
  {
   "cell_type": "code",
   "execution_count": 3,
   "metadata": {},
   "outputs": [
    {
     "name": "stdout",
     "output_type": "stream",
     "text": [
      "300 SL 1957.\n",
      "\n"
     ]
    }
   ],
   "source": [
    "import cv2 \n",
    "import numpy as np \n",
    "import pytesseract\n",
    "import imutils\n",
    "\n",
    "\n",
    "img=cv2.imread(\"9.1 licence_plate.jpg.jpg\",0)\n",
    "# daha yumuşaklaştırıyoruz fotoyu\n",
    "filtered=cv2.bilateralFilter(img,6,250,250)\n",
    "# köşe belirliyoruz\n",
    "edged=cv2.Canny(filtered,30,200)\n",
    "# konturları bulup sıralıyoruz\n",
    "contours=cv2.findContours(edged,cv2.RETR_TREE,cv2.CHAIN_APPROX_SIMPLE)\n",
    "cnts=imutils.grab_contours(contours)\n",
    "cnts=sorted(cnts,key=cv2.contourArea,reverse=True)[:10]\n",
    "screen=None\n",
    "# 4 köşesi varsa plaka olarak işaretliyoz\n",
    "for c in cnts:\n",
    "    epsilon=0.018*cv2.arcLength(c,True)\n",
    "    approx=cv2.approxPolyDP(c,epsilon=epsilon,closed=True)\n",
    "    if len(approx) ==4:\n",
    "        screen=approx\n",
    "        break\n",
    "\n",
    "# konturları çizip gösteriyoruz\n",
    "mask=np.zeros(img.shape,np.uint8)\n",
    "new_img=cv2.drawContours(mask,[screen],0,(255,255,255),-1)\n",
    "new_img=cv2.bitwise_and(img,img,mask=mask)\n",
    "# resmin sadece plaka olan yerini alıyoruz\n",
    "(x,y)=np.where(mask==255)\n",
    "(topx,topy)=(np.min(x),np.min(y))\n",
    "(bottomx,bottomy)=(np.max(x),np.max(y))\n",
    "cropped=img[topx:bottomx+1,topy:bottomy+1]\n",
    "# texti yazdırıyoruz\n",
    "text=pytesseract.image_to_string(cropped,lang=\"eng\")\n",
    "print(text)\n",
    "\n",
    "\n",
    "\n",
    "\n",
    "cv2.imshow(\"1\",img)\n",
    "cv2.imshow(\"2\",new_img)\n",
    "cv2.imshow(\"3\",cropped)\n",
    "cv2.waitKey(0)\n",
    "cv2.destroyAllWindows()"
   ]
  }
 ],
 "metadata": {
  "kernelspec": {
   "display_name": "Python 3",
   "language": "python",
   "name": "python3"
  },
  "language_info": {
   "codemirror_mode": {
    "name": "ipython",
    "version": 3
   },
   "file_extension": ".py",
   "mimetype": "text/x-python",
   "name": "python",
   "nbconvert_exporter": "python",
   "pygments_lexer": "ipython3",
   "version": "3.11.5"
  }
 },
 "nbformat": 4,
 "nbformat_minor": 2
}
