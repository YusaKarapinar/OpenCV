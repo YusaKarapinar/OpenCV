{
 "cells": [
  {
   "cell_type": "code",
   "execution_count": 11,
   "metadata": {},
   "outputs": [],
   "source": [
    "import cv2 \n",
    "import numpy as np \n",
    "cap=cv2.VideoCapture(\"4.2 traffic.avi.avi\")\n",
    "\n",
    "backsub=cv2.createBackgroundSubtractorMOG2()\n",
    "c=0\n",
    "\n",
    "while True:\n",
    "    ret,frame=cap.read()\n",
    "    if ret is not True:\n",
    "        break\n",
    "    fgmask=backsub.apply(frame)\n",
    "    cv2.line(frame,(50,0),(50,300),(255,0,0),2)\n",
    "    cv2.line(frame,(70,0),(70,300),(255,0,0),2)\n",
    "    contours,hierarchy=cv2.findContours(fgmask,cv2.RETR_TREE,cv2.CHAIN_APPROX_SIMPLE)\n",
    "\n",
    "\n",
    "    try:hierarchy= hierarchy[0]\n",
    "    except:hierarchy=[]\n",
    "\n",
    "    for contour,hier in zip(contours,hierarchy):\n",
    "        (x,y,w,h)=cv2.boundingRect(contour)\n",
    "        if h>40 and w>40:\n",
    "            cv2.rectangle(frame,(x,y),(x+w,y+h),(0,0,255),3)\n",
    "            if x>50 and x<70:\n",
    "                c+=1\n",
    "    cv2.putText(frame,\"Car:\"+str(c),(90,100),cv2.FONT_HERSHEY_COMPLEX,2,(0,0,255),2,cv2.LINE_AA)\n",
    "\n",
    "\n",
    "\n",
    "\n",
    "\n",
    "\n",
    "\n",
    "    cv2.imshow(\"1\",frame)\n",
    "    cv2.imshow(\"2\",fgmask)\n",
    "    if cv2.waitKey(50) & 0xFF==ord(\"q\"):\n",
    "        break\n",
    "\n",
    "\n",
    "\n",
    "\n",
    "\n",
    "\n",
    "cap.release()\n",
    "cv2.destroyAllWindows()"
   ]
  }
 ],
 "metadata": {
  "kernelspec": {
   "display_name": "base",
   "language": "python",
   "name": "python3"
  },
  "language_info": {
   "codemirror_mode": {
    "name": "ipython",
    "version": 3
   },
   "file_extension": ".py",
   "mimetype": "text/x-python",
   "name": "python",
   "nbconvert_exporter": "python",
   "pygments_lexer": "ipython3",
   "version": "3.11.5"
  }
 },
 "nbformat": 4,
 "nbformat_minor": 2
}
