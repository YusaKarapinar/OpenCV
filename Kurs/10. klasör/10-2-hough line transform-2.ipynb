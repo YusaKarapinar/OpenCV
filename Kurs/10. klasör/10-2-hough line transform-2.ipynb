{
 "cells": [
  {
   "cell_type": "code",
   "execution_count": 32,
   "metadata": {},
   "outputs": [],
   "source": [
    "import cv2 \n",
    "import numpy as np \n",
    "\n",
    "cap=cv2.VideoCapture(\"4.2 line.mp4.mp4\")\n",
    "while True:\n",
    "    ret,frame=cap.read()\n",
    "    if not ret:\n",
    "        break\n",
    "\n",
    "\n",
    "    hsv=cv2.cvtColor(frame,cv2.COLOR_BGR2HSV)\n",
    "\n",
    "    \n",
    "    lower_yellow=np.array([18,94,140],np.uint8)\n",
    "    upper_yellow=np.array([48,255,255],np.uint8)\n",
    "    mask=cv2.inRange(hsv,lower_yellow,upper_yellow)\n",
    "    edges =cv2.Canny(mask,10,150)\n",
    "\n",
    "    lines=cv2.HoughLinesP(edges,1,np.pi/180,50,maxLineGap=50)\n",
    "\n",
    "    for line in lines:\n",
    "        x1,y1,x2,y2=line[0]\n",
    "        cv2.line(frame,(x1,y1),(x2,y2),(0,0,255),2)\n",
    "    if cv2.waitKey(20) & 0xFF==ord(\"q\"):\n",
    "        break\n",
    "    \n",
    "    cv2.imshow(\"mask\",mask)\n",
    "    cv2.imshow(\"frame\",frame)\n",
    "\n",
    "\n",
    "\n",
    "cap.release()\n",
    "cv2.destroyAllWindows()"
   ]
  }
 ],
 "metadata": {
  "kernelspec": {
   "display_name": "base",
   "language": "python",
   "name": "python3"
  },
  "language_info": {
   "codemirror_mode": {
    "name": "ipython",
    "version": 3
   },
   "file_extension": ".py",
   "mimetype": "text/x-python",
   "name": "python",
   "nbconvert_exporter": "python",
   "pygments_lexer": "ipython3",
   "version": "3.11.5"
  }
 },
 "nbformat": 4,
 "nbformat_minor": 2
}
