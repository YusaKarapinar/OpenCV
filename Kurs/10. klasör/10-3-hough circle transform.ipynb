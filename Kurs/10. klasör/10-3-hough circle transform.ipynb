{
 "cells": [
  {
   "cell_type": "code",
   "execution_count": 27,
   "metadata": {},
   "outputs": [],
   "source": [
    "import cv2 \n",
    "import numpy as np \n",
    "\n",
    "img1=cv2.imread(\"5.1 coins.jpg.jpg\")\n",
    "img2=cv2.imread(\"5.2 balls.jpg.jpg\")\n",
    "\n",
    "\n",
    "gray1=cv2.cvtColor(img1,cv2.COLOR_BGR2GRAY)\n",
    "gray2=cv2.cvtColor(img2,cv2.COLOR_BGR2GRAY)\n",
    "\n",
    "blur1=cv2.medianBlur(gray1,25)\n",
    "blur2=cv2.medianBlur(gray2,5)\n",
    "\n",
    "circles1=cv2.HoughCircles(blur1,cv2.HOUGH_GRADIENT,1,blur1.shape[0]/10,param1=200,param2=10,minRadius=50,maxRadius=65)\n",
    "circles2=cv2.HoughCircles(blur2,cv2.HOUGH_GRADIENT,1,blur2.shape[0]/30,param1=200,param2=10,minRadius=20,maxRadius=50)\n",
    "if circles1 is not None:\n",
    "    circles1=np.uint16(np.around(circles1))\n",
    "    for i in circles1[0,:]:\n",
    "        cv2.circle(img1,(i[0],i[1]),i[2],(0,0,255),2)\n",
    "\n",
    "if circles2 is not None:\n",
    "    circles2=np.uint16(np.around(circles2))\n",
    "    for i in circles2[0,:]:\n",
    "        cv2.circle(img2,(i[0],i[1]),i[2],(0,0,255),2)\n",
    "\n",
    "\n",
    "\n",
    "cv2.imshow(\"img1\",img1)\n",
    "cv2.imshow(\"img2\",img2)\n",
    "\n",
    "\n",
    "cv2.waitKey(0)\n",
    "cv2.destroyAllWindows()"
   ]
  },
  {
   "cell_type": "code",
   "execution_count": null,
   "metadata": {},
   "outputs": [],
   "source": []
  }
 ],
 "metadata": {
  "kernelspec": {
   "display_name": "base",
   "language": "python",
   "name": "python3"
  },
  "language_info": {
   "codemirror_mode": {
    "name": "ipython",
    "version": 3
   },
   "file_extension": ".py",
   "mimetype": "text/x-python",
   "name": "python",
   "nbconvert_exporter": "python",
   "pygments_lexer": "ipython3",
   "version": "3.11.5"
  }
 },
 "nbformat": 4,
 "nbformat_minor": 2
}
