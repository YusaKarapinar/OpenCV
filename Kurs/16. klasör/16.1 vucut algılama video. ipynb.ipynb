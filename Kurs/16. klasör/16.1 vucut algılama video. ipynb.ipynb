{
 "cells": [
  {
   "cell_type": "code",
   "execution_count": 11,
   "metadata": {},
   "outputs": [],
   "source": [
    "import cv2 \n",
    "import numpy as np \n",
    "cap=cv2.VideoCapture(\"6.1 body.mp4.mp4\")\n",
    "\n",
    "\n",
    "body_cascade=cv2.CascadeClassifier(\"3.3 fullbody.xml.xml\")\n",
    "while True:\n",
    "    ret,frame=cap.read()\n",
    "    if ret is not True:\n",
    "        break\n",
    "\n",
    "    gray=cv2.cvtColor(frame,cv2.COLOR_BGR2GRAY)\n",
    "\n",
    "    bodies=body_cascade.detectMultiScale(gray,1.2,3)\n",
    "\n",
    "    for x,y,w,h in bodies:\n",
    "        cv2.rectangle(frame,(x,y),(x+w,y+h),(0,0,255),2)\n",
    "\n",
    "    cv2.imshow(\"1\",frame)\n",
    "    if cv2.waitKey(20) & 0xFF==ord(\"q\"):\n",
    "        break\n",
    "\n",
    "\n",
    "cap.release()\n",
    "cv2.destroyAllWindows()"
   ]
  }
 ],
 "metadata": {
  "kernelspec": {
   "display_name": "Python 3",
   "language": "python",
   "name": "python3"
  },
  "language_info": {
   "codemirror_mode": {
    "name": "ipython",
    "version": 3
   },
   "file_extension": ".py",
   "mimetype": "text/x-python",
   "name": "python",
   "nbconvert_exporter": "python",
   "pygments_lexer": "ipython3",
   "version": "3.12.1"
  }
 },
 "nbformat": 4,
 "nbformat_minor": 2
}
