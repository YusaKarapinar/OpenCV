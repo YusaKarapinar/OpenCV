{
 "cells": [
  {
   "cell_type": "code",
   "execution_count": 25,
   "metadata": {},
   "outputs": [],
   "source": [
    "import cv2 \n",
    "import numpy as np \n",
    "\n",
    "\n",
    "cap=cv2.VideoCapture(0)\n",
    "face_cascade=cv2.CascadeClassifier(\"4.1 frontalface.xml.xml\")\n",
    "eye_cascade=cv2.CascadeClassifier(\"5.1 eye.xml.xml\")\n",
    "\n",
    "\n",
    "while True:\n",
    "    ret,frame=cap.read()\n",
    "    frame=cv2.resize(frame,(480,360))\n",
    "    if ret is not True:\n",
    "        break\n",
    "\n",
    "    gray=cv2.cvtColor(frame,cv2.COLOR_BGR2GRAY)\n",
    "\n",
    "\n",
    "    faces=face_cascade.detectMultiScale(gray,1.3,4)\n",
    "\n",
    "    if faces is not None:\n",
    "        for x,y,w,h in faces:\n",
    "            cv2.rectangle(frame,(x,y),(x+w,y+h),(0,0,255),2)\n",
    "\n",
    "            gray_face = gray[y:y+h, x:x+w]\n",
    "            frame_face = frame[y:y+h, x:x+w]\n",
    "            eyes=eye_cascade.detectMultiScale(gray_face,1.3,7)\n",
    "            if eyes is not None:\n",
    "                for x1,y1,w1,h1 in  eyes:\n",
    "                    cv2.rectangle(frame_face,(x1,y1),(x1+w1,y1+h1),(0,255,0),2)\n",
    "\n",
    "    cv2.imshow(\"1\",frame)\n",
    "    cv2.imshow(\"2\",frame_face)\n",
    "    if cv2.waitKey(20) & 0xFF==ord(\"q\"):\n",
    "        break\n",
    "\n",
    "\n",
    "\n",
    "\n",
    "cap.release()\n",
    "cv2.destroyAllWindows()"
   ]
  }
 ],
 "metadata": {
  "kernelspec": {
   "display_name": "Python 3",
   "language": "python",
   "name": "python3"
  },
  "language_info": {
   "codemirror_mode": {
    "name": "ipython",
    "version": 3
   },
   "file_extension": ".py",
   "mimetype": "text/x-python",
   "name": "python",
   "nbconvert_exporter": "python",
   "pygments_lexer": "ipython3",
   "version": "3.12.1"
  }
 },
 "nbformat": 4,
 "nbformat_minor": 2
}
