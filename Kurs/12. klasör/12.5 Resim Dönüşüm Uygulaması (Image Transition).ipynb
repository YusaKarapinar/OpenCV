{
 "cells": [
  {
   "cell_type": "code",
   "execution_count": 1,
   "metadata": {},
   "outputs": [],
   "source": [
    "import  cv2\n",
    "import  numpy as np\n",
    "\n",
    "def nothing(x):\n",
    "    pass\n",
    "img1=cv2.imread(\"1.1 aircraft.jpg.jpg\")\n",
    "img2=cv2.imread(\"7.1 balls.jpg.jpg\")\n",
    "img1=cv2.resize(img1,(640,480))\n",
    "img2=cv2.resize(img2,(640,480))\n",
    "cv2.namedWindow(\"1\")\n",
    "cv2.createTrackbar(\"s\",\"1\",0,1000,nothing)\n",
    "while True:\n",
    "    alpha=cv2.getTrackbarPos(\"s\",\"1\")\n",
    "    alpha/=1000\n",
    "    output=cv2.addWeighted(img1,alpha,img2,1-alpha,0)\n",
    "    cv2.imshow(\"1\",output)\n",
    "    cv2.waitKey(20)\n",
    "    if cv2.waitKey(20) & 0xFF==ord(\"q\"):\n",
    "        break\n",
    "    \n",
    "\n",
    "\n",
    "\n",
    "\n",
    "\n",
    "\n",
    "\n",
    "\n",
    "\n",
    "cv2.destroyAllWindows()"
   ]
  }
 ],
 "metadata": {
  "kernelspec": {
   "display_name": "base",
   "language": "python",
   "name": "python3"
  },
  "language_info": {
   "codemirror_mode": {
    "name": "ipython",
    "version": 3
   },
   "file_extension": ".py",
   "mimetype": "text/x-python",
   "name": "python",
   "nbconvert_exporter": "python",
   "pygments_lexer": "ipython3",
   "version": "3.11.5"
  }
 },
 "nbformat": 4,
 "nbformat_minor": 2
}
