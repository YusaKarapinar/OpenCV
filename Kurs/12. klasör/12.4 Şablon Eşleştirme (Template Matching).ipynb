{
 "cells": [
  {
   "cell_type": "code",
   "execution_count": 2,
   "metadata": {},
   "outputs": [],
   "source": [
    "import cv2 \n",
    "import numpy as np \n",
    "\n",
    "\n",
    "\n",
    "img=cv2.imread(\"4.2 starwars.jpg.jpg\")\n",
    "temp=cv2.imread(\"5.2 starwars2.jpg.jpg\")\n",
    "gray_img=cv2.cvtColor(img,cv2.COLOR_BGR2GRAY)\n",
    "gray_temp=cv2.cvtColor(temp,cv2.COLOR_BGR2GRAY)\n",
    "\n",
    "\n",
    "\n",
    "result=cv2.matchTemplate(gray_img,gray_temp,cv2.TM_CCOEFF_NORMED)\n",
    "loc=np.where(result>0.7)\n",
    "for point in zip(loc[::-1]):\n",
    "    cv2.rectangle(img,point,(point[0]+w,point[1]+h),(0,255,0),3)\n",
    "\n",
    "\n",
    "\n",
    "\n",
    "\n",
    "cv2.imshow(\"res\",result)\n",
    "\n",
    "cv2.waitKey(0)\n",
    "cv2.destroyAllWindows()"
   ]
  }
 ],
 "metadata": {
  "kernelspec": {
   "display_name": "base",
   "language": "python",
   "name": "python3"
  },
  "language_info": {
   "codemirror_mode": {
    "name": "ipython",
    "version": 3
   },
   "file_extension": ".py",
   "mimetype": "text/x-python",
   "name": "python",
   "nbconvert_exporter": "python",
   "pygments_lexer": "ipython3",
   "version": "3.11.5"
  }
 },
 "nbformat": 4,
 "nbformat_minor": 2
}
