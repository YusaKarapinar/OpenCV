{
 "cells": [
  {
   "cell_type": "code",
   "execution_count": 7,
   "metadata": {},
   "outputs": [
    {
     "name": "stdout",
     "output_type": "stream",
     "text": [
      "same size\n"
     ]
    }
   ],
   "source": [
    "import cv2\n",
    "import numpy as np\n",
    "\n",
    "img1=cv2.imread(\"1.1 aircraft.jpg.jpg\")\n",
    "img2=cv2.imread(\"1.1 aircraft.jpg.jpg\")\n",
    "\n",
    "img1=cv2.resize(img1,(640,550))\n",
    "img2=cv2.resize(img2,(640,550))\n",
    "\n",
    "img3=cv2.medianBlur(img2,7)\n",
    "\n",
    "cv2.imshow(\"aircraft\",img1)\n",
    "cv2.imshow(\"aircraft2\",img3)\n",
    "\n",
    "\n",
    "if img1.shape==img2.shape:\n",
    "    print(\"same size\")\n",
    "\n",
    "diff=cv2.subtract(img1,img3)\n",
    "b,g,r=cv2.split(diff)\n",
    "\n",
    "if cv2.countNonZero(b)==0 and cv2.countNonZero(g)==0 and cv2.countNonZero(r)==0:\n",
    "    print(\"same pic\")\n",
    "\n",
    "\n",
    "\n",
    "cv2.imshow(\"diffrence\",diff)\n",
    "\n",
    "\n",
    "\n",
    "cv2.waitKey(0)\n",
    "cv2.destroyAllWindows()"
   ]
  }
 ],
 "metadata": {
  "kernelspec": {
   "display_name": "base",
   "language": "python",
   "name": "python3"
  },
  "language_info": {
   "codemirror_mode": {
    "name": "ipython",
    "version": 3
   },
   "file_extension": ".py",
   "mimetype": "text/x-python",
   "name": "python",
   "nbconvert_exporter": "python",
   "pygments_lexer": "ipython3",
   "version": "3.11.5"
  }
 },
 "nbformat": 4,
 "nbformat_minor": 2
}
