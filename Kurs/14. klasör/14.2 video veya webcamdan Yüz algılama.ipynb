{
 "cells": [
  {
   "cell_type": "code",
   "execution_count": 3,
   "metadata": {},
   "outputs": [],
   "source": [
    "import cv2 \n",
    "import numpy as np \n",
    "\n",
    "\n",
    "cap=cv2.VideoCapture(0)\n",
    "face_cascade=cv2.CascadeClassifier(\"4.1 frontalface.xml.xml\")\n",
    "\n",
    "\n",
    "while True:\n",
    "    ret,frame=cap.read()\n",
    "    if ret is not True:\n",
    "        break\n",
    "\n",
    "    gray=cv2.cvtColor(frame,cv2.COLOR_BGR2GRAY)\n",
    "\n",
    "\n",
    "    faces=face_cascade.detectMultiScale(gray,1.3,6)\n",
    "\n",
    "    if faces is not None:\n",
    "        for x,y,w,h in faces:\n",
    "            cv2.rectangle(frame,(x,y),(x+w,y+h),(0,0,255),3)\n",
    "\n",
    "    cv2.imshow(\"selam\",frame)\n",
    "    if cv2.waitKey(20) & 0xFF==ord(\"q\"):\n",
    "        break\n",
    "\n",
    "\n",
    "\n",
    "\n",
    "cap.release()\n",
    "cv2.destroyAllWindows()"
   ]
  }
 ],
 "metadata": {
  "kernelspec": {
   "display_name": "base",
   "language": "python",
   "name": "python3"
  },
  "language_info": {
   "codemirror_mode": {
    "name": "ipython",
    "version": 3
   },
   "file_extension": ".py",
   "mimetype": "text/x-python",
   "name": "python",
   "nbconvert_exporter": "python",
   "pygments_lexer": "ipython3",
   "version": "3.11.5"
  }
 },
 "nbformat": 4,
 "nbformat_minor": 2
}
